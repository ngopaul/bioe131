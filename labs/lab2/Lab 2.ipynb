{
 "cells": [
  {
   "cell_type": "markdown",
   "metadata": {},
   "source": [
    "## Terminal Commands run\n",
    "\n",
    "`muscle –in seqs.fa –out seqs.aligned.fa`\n",
    "\n",
    "The input to this file were the sequences. The output is a series of aligned sequences that the algorithm found.\n",
    "\n",
    "`fasttree –nt < seqs.aligned.fa > tree.nwk `\n",
    "\n",
    "The input to this file were the aligned sequences. The output was a tree file."
   ]
  },
  {
   "cell_type": "code",
   "execution_count": 34,
   "metadata": {},
   "outputs": [],
   "source": [
    "from Bio import Phylo, SeqIO\n",
    "%matplotlib inline\n",
    "from io import StringIO\n",
    "from matplotlib import figure\n",
    "import matplotlib.pyplot as plt\n",
    "\n",
    "trees = Phylo.parse('tree.nwk', 'newick')"
   ]
  },
  {
   "cell_type": "code",
   "execution_count": 35,
   "metadata": {},
   "outputs": [],
   "source": [
    "trees = list(trees)"
   ]
  },
  {
   "cell_type": "code",
   "execution_count": 36,
   "metadata": {},
   "outputs": [],
   "source": [
    "trees\n",
    "tree = trees[0]"
   ]
  },
  {
   "cell_type": "code",
   "execution_count": 37,
   "metadata": {},
   "outputs": [
    {
     "name": "stdout",
     "output_type": "stream",
     "text": [
      " , rh.50\n",
      " |\n",
      " , rh.52\n",
      " |\n",
      " | hu.39\n",
      " |\n",
      "_, rh.53\n",
      " |\n",
      " , rh.49\n",
      " |\n",
      " , rh.57\n",
      " |\n",
      " | rh.51\n",
      " |\n",
      " , rh.64\n",
      " |\n",
      " , rh.61\n",
      " |\n",
      " |_ rh.58\n",
      " |\n",
      " |                               , pi.2\n",
      " |           ____________________|\n",
      " |          |                    , pi.3\n",
      " |          |                    |\n",
      " |          |                    | pi.1\n",
      " |          |\n",
      " |          |           _ hu.17\n",
      " |        __|         ,|\n",
      " |       |  |         || hu.6\n",
      " |       |  |  _______|\n",
      " |       |  | |       | , rh.10\n",
      " |       |  | |       |_|\n",
      " |       |  | |         , bb.1\n",
      " |       |  |_|         |\n",
      " |       |    |         | bb.2\n",
      " |       |    |\n",
      " |       |    |    _______ rh.2\n",
      " |       |    |   |\n",
      " |       |    |___|          __ rh.40\n",
      " |       |        |         |\n",
      " |       |        |_________|, hu.67\n",
      " |       |                  ||\n",
      " |       |                  |, hu.37\n",
      " |       |                   |\n",
      " |_______|                   , hu.40\n",
      "         |                   |\n",
      "         |                   | hu.66\n",
      "         |                   |\n",
      "         |                   , hu.42\n",
      "         |                   |\n",
      "         |                   , hu.41\n",
      "         |                   |\n",
      "         |                   | rh.38\n",
      "         |\n",
      "         |          ______________ rh.43\n",
      "         |    _____|\n",
      "         |   |     |                                              _ hu.14\n",
      "         |   |     |_____________________________________________|\n",
      "         |   |                                                   |  , hu.31\n",
      "         |   |                                                   |__|\n",
      "         |   |                                                      | hu.32\n",
      "         |   |\n",
      "         |___|                                        __ hu.43\n",
      "             |         ______________________________|\n",
      "             |        |                              |  , hu.48\n",
      "             |        |                              |__|\n",
      "             |        |                                 |      , hu.44\n",
      "             |        |                                 |______|\n",
      "             |        |                                        | hu.46\n",
      "             |        |\n",
      "             |________|             ______ cy.2\n",
      "                      |    ________|\n",
      "                      |   |        |     __ rh.54\n",
      "                      |   |        |____|\n",
      "                      |   |             |      __ rh.55\n",
      "                      |   |             |_____|\n",
      "                      |   |                   |, rh.48\n",
      "                      |___|                   ||\n",
      "                          |                    | rh.62\n",
      "                          |\n",
      "                          |                 , rh.35\n",
      "                          |         ________|\n",
      "                          |        |        , rh.36\n",
      "                          |        |        |\n",
      "                          |________|        | rh.37\n",
      "                                   |\n",
      "                                   |               , cy.3\n",
      "                                   |               |\n",
      "                                   |_______________, cy.6\n",
      "                                                   |\n",
      "                                                   | cy.4\n",
      "                                                   |\n",
      "                                                   , cy.5\n",
      "                                                   |\n",
      "                                                   | rh.13\n",
      "\n"
     ]
    }
   ],
   "source": [
    "tree.ladderize()\n",
    "plot = Phylo.draw_ascii(tree)"
   ]
  },
  {
   "cell_type": "markdown",
   "metadata": {},
   "source": [
    "There are definitely clusters. The farther along before a group has a common split means the sequences look closer together.  \n",
    "For example, the cy.3 cy.6 cy.4 cy.5 are all pretty close sequences because of how far to the right they split from each other.\n",
    "\n",
    "Some sequences that seem very far apart probably diverged very early on, which for example could be rh.50 and rh.13. This is an example of sequences far apart in time - rh.13 slowly changed. However, sequences like hu.67 versus cy.3 are different because they diverged early on, and slowly made different mutations."
   ]
  },
  {
   "cell_type": "markdown",
   "metadata": {},
   "source": [
    "## BLAST\n",
    "\n",
    "\n",
    "I'm going to pick:  \n",
    "- pi.2\n",
    "- hu.6\n",
    "- hu.41\n",
    "- hu.31\n",
    "- hu.46\n",
    "- cy.5\n"
   ]
  },
  {
   "cell_type": "code",
   "execution_count": 40,
   "metadata": {},
   "outputs": [],
   "source": [
    "records = []\n",
    "for record in SeqIO.parse(\"seqs.fa\", \"fasta\"):\n",
    "    records.append(record)"
   ]
  },
  {
   "cell_type": "code",
   "execution_count": 42,
   "metadata": {},
   "outputs": [],
   "source": [
    "filtered_records = []\n",
    "for record in records:\n",
    "    if record.name in ['pi.2', 'hu.6', 'hu.41', 'hu.31', 'hu.46', 'cy.5']:\n",
    "        filtered_records.append(record)"
   ]
  },
  {
   "cell_type": "code",
   "execution_count": 43,
   "metadata": {},
   "outputs": [
    {
     "data": {
      "text/plain": [
       "[SeqRecord(seq=Seq('atggctgccgatggttatcttccagattggctcgagggcaacctctctgagggc...taa', SingleLetterAlphabet()), id='cy.5', name='cy.5', description='cy.5', dbxrefs=[]),\n",
       " SeqRecord(seq=Seq('atggctgccgatggttatcttccagattggctcgaggacactctctctgaagga...taa', SingleLetterAlphabet()), id='hu.31', name='hu.31', description='hu.31', dbxrefs=[]),\n",
       " SeqRecord(seq=Seq('atggctgctgacggttatcttccagattggctcgaggacaacctctctgagggc...taa', SingleLetterAlphabet()), id='hu.41', name='hu.41', description='hu.41', dbxrefs=[]),\n",
       " SeqRecord(seq=Seq('atggctgccgacggttatcttccagattggctcgaggacactctctctgaagga...taa', SingleLetterAlphabet()), id='hu.46', name='hu.46', description='hu.46', dbxrefs=[]),\n",
       " SeqRecord(seq=Seq('atggctgccgatggttatcttccagattggctcgaggacaacctctctgagggc...taa', SingleLetterAlphabet()), id='hu.6', name='hu.6', description='hu.6', dbxrefs=[]),\n",
       " SeqRecord(seq=Seq('atggctgctgacggttatcttccagattggctcgaggacaacctctctgagggc...taa', SingleLetterAlphabet()), id='pi.2', name='pi.2', description='pi.2', dbxrefs=[])]"
      ]
     },
     "execution_count": 43,
     "metadata": {},
     "output_type": "execute_result"
    }
   ],
   "source": [
    "filtered_records"
   ]
  },
  {
   "cell_type": "code",
   "execution_count": 44,
   "metadata": {},
   "outputs": [
    {
     "name": "stdout",
     "output_type": "stream",
     "text": [
      "cy.5\n",
      "atggctgccgatggttatcttccagattggctcgagggcaacctctctgagggcattcgcgagtggtgggacttgaaacctggagccccgaaacccaaagccaaccagcaaaagcaggacgacggccggggtctggtgcttcctggctacaggtacctcggacccttcaacggactcgacaagggagagccggtcaacgaggcagacgccgcggccctcgagcacgacaaggcctacgacaagcagctcgagcagggggacaacccgtacctcaagtacaaccacgccgacgccgagtttcaggagcgtcttcaagaagatacgtcttttgggggcaacctcgggcgagcagtcttccaggccaagaagcgggttctcgaacctctcggtctggttgaggaaggcgctaagacggctcctggaaagaagagacccatagaatcccccgactcctccacgggcatcggcaagaacggccagccgcccgctaaaaagaagctcaactttgggcagactggcgactcagagtcagtgcccgacccccaacctctcggagaacctcccgccgcgccctcaggtctgggatctggtacaatggctgcaggcggtggcgcaccaatggcagacaataacgaaggcgccgacggagtgggtaatgcctccggaaattggcattgcgattccacatggctgggcgacagagtcatcaccaccagcacccgcacctgggccctgcccacctacaacaaccacctctacaagcagatatcaagtcagagcggggctaccaacgacaaccacttcttcggctacagcaccccctggggctattttgacttcaacagattccactgccacttctcaccacgtgactggcagcgactcatcaacaacaactggggattccggcccagaaagctgcggttcaagttgttcaacatccaggtcaaggaggtcacgacgaacgacggcgttacgaccatcgctaataaccttaccagcacgattcaggtcttctcggactcggagtaccaactgccgtacgtcctcggctctgcgcaccagggctgcctccctccgttccctgcggacgtgttcatgattcctcagtacggatatctgactctaaacaacggcagtcagtctgtgggacgttcctccttctactgcctggagtactttccttctcagatgctgagaacgggcgataactttgaattcagctacacctttgaggaagtgcctttccacagcagctatgcgcacagccagagcctggaccggctgatgaatcccctcatcgaccagtacctgtactacctggcccggacccagagcactacggggtccacaagggagctgcagttccatcaggctgggcccaacaccatggccgagcaatcaaagaactggctgcccggaccctgttatcggcagcagagactgtcaaaaaacatagacagcaacaacaacagtaactttgcctggaccggggccactaaataccatctgaatggtagaaattcattaaccaacccgggcgtagccatggccaccaacaaggacgacgaggaccagttctttcccatcaacggagtgctggtttttggcaaaacgggggctgccaacaagacaacgctggaaaacgtgctaatgaccagcgaggaggagatcaaaaccaccaatcccgtggctacagaagaatacggtgtggtctccagcaacctgcaatcgtctacggccggaccccagacacagactgtcaacagccagggggctctgcccggcatggtctggcagaaccgggacgtgtacctgcagggtcccatctgggccaaaattcctcacacggacggcaactttcacccgtctcccctgatgggcggatttggactcaaacacccgcctcctcaaattctcatcaaaaacaccccggtacctgctaatcctccagaggtgtttactcctgccaagtttgcctcatttatcacgcagtacagcaccggccaggtcagcgtggagatcgagtgggaactgcagaaagaaaacagcaaacgctggaatccagagattcagtacacctcaaattatgccaagtctaataatgtggaatttgctgtcaacaacgaaggggtttatactgagcctcgccccattggcacccgttacctcacccgtaacctgtaa\n",
      "hu.31\n",
      "atggctgccgatggttatcttccagattggctcgaggacactctctctgaaggaataagacagtggtggaagctcaaacctggccccccaccaccaaagcccgcagagcggcataaggacgacagcaggggtcttgtgcttcctgggtacaagtacctcggacccggcaacggactcgacaagggggagccggtcaacgcagcagacgcggcggccctcgagcacgacaaggcctacgaccagcagctcaaggccggagacaacccgtacctcaagtacaaccacgccgacgccgagttccaggagcggctcaaagaagatacgtcttttgggggcaacctcgggcgagcagtcttccaggccaaaaagaggcttcttgaacctcttggtctggttgaggaagcggctaagacggctcctggaaagaagaggcctgtagagcagtctcctcaggaaccggactcctccgcgggtattggcaaatcgggttcacagcccgctaaaaagaaactcaatttcggtcagactggcgacacagagtcagtccccgaccctcaaccaatcggagaacctcccgcagccccctcaggtgtgggatctcttacaatggcttcaggtggtggcgcaccagtggcagacaataacgaaggtgccgatggagtgggtagttcctcgggaaattggcattgcgattcccaatggctgggggacagagtcatcaccaccagcacccgaacctgggccctgcccacctacaacaatcacctctacaagcaaatctccaacagcacatctggaggatcttcaaatgacaacgcctacttcggctacagcaccccctgggggtattttgacttcaacagattccactgccacttctcaccacgtgactggcagcgactcatcaacaacaactggggattccggcctaagcgactcaacttcaagctcttcaacattcaggtcaaagaggttacggacaacaatggagtcaagaccatcgccaataaccttaccagcacggtccaggtcttcacggactcagactatcagctcccgtacgtgctcgggtcggctcacgagggctgcctcccgccgttcccagcggacgttttcatgattcctcagtacgggtatctgacgcttaatgatggaggccaggccgtgggtcgttcgtccttttactgcctggaatatttcccgtcgcaaatgctaagaacgggtaacaacttccagttcagctacgagtttgagaacgtacctttccatagcagctacgctcacagccaaagcctggaccgactaatgaatccactcatcgaccaatacttgtactatctctcaaagactattaacggttctggacagaatcaacaaacgctaaaattcagtgtggccggacccagcaacatggctgtccagggaagaaactacatacctggacccagctaccgacaacaacgtgtctcaaccactgtgactcaaaacaacaacagcgaatttgcttggcctggagcttcttcttgggctctcaatggacgtaatagcttgatgaatcctggacctgctatggccagccacaaagaaggagaggaccgtttctttcctttgtccggatctttaatttttggcaaacaaggaactggaagagacaacgtggatgcggacaaagtcatgataaccaacgaagaagaaattaaaactactaacccggtagcaacggagtcctatggacaagtggccacaaaccaccagagtgcccaagcacaggcgcagaccggctgggttcaaaaccaaggaatacttccgggtatggtttggcaggacagagatgtgtacctgcaaggacccatttgggccaaaattcctcacacggacggcaactttcacccttctccgctaatgggagggtttggaatgaagcacccgcctcctcagatcctcatcaaaaacacacctgtacctgcggatcctccaacggctttcaataaggacaagctgaactctttcatcacccagtattctactggccaagtcagcgtggagattgagtgggagctgcagaaggaaaacagcaagcgctggaacccggagatccagtacacttccaactattacaagtctaataatgttgaatttgctgttagtactgaaggtgtatatagtgaaccccgccccattggcaccagatacctgactcgtaatctgtaa\n",
      "hu.41\n",
      "atggctgctgacggttatcttccagattggctcgaggacaacctctctgagggcattcgcgagtggtgggacctgaaacctggagcccccaagcccaaggccaaccagcagaagcaggacgacggccggggtctggtgcttcctggctacaagtacctcggacccttcaacggactcgacaagggggagcccgtcaacgcggcggacgcagcggccctcgagcacgacaaggcctacgaccagcagctcaaagcgggtgacaatccgtacctgcggtataaccacgccgacgccgagtttcaggagcgtctacaagaagatacgtcttttgggggcaacctcgggcgagcagtcttccaggccaagaagcgggttctcgaacctctcggtccggttgaggaagctgctaagacggctcctggaaagaagagaccggtagaaccgccacctcagcgttcccccgactcctccacgggcatcggcaagaaaggccagcagcccgctaaaaagagactgaactttggtcagactggcgactcagagtcagtccccgaccctcaaccaatcggagaaccaccagcaggcccctctggtctgggatctggtacaatggctgcaggcggtggcgctccaatggcagacaataacgaaggcgccgacggagtgggtagttcctcaggaaattggcattgcgattccacatggctgggcgacagagtcatcaccaccagcacccgaacctgggccctgcccacctacaacaaccacctctacaagcaaatatccaatgggacatcgggaggaagcaccaacgacaacacctacttcggctacagcaccccctgggggtattttgacttcaacagattccactgccacttctcaccacgtgactggcagcgactcatcaacaacaactggggattccggccaaaaagactcagcttcaagctcttcaacatccaggtcaaggaggtcacgcagaatgaaggcaccaagaccgtcgccaataaccttaccagcacgattcaggtatttacggactcggaataccagctgccgtacgtcctcggctccgcgcaccagggctgcctgcctccgttcccggcggacgtcttcatgattccccagtacggctaccttacactgaacaatggaagtcaagccgtaggccgttcctccttctactgcctggaatattttccatctcaaatgctgcgaactggaaacaattttgaattcagctacaccttcgaggacgtgcctttccacagcagctacgcacacagccagagcttggaccgactgatgaatcctctcatcgaccagtacctgtactacttatccagaactcagtccacaggaggaactcaaggtacccagcaattgttattttctcaagctgggcctgcaaacatgtcggctcaggctaagaactggctacctggaccttgctaccggcagcagcgagtctctacgacactgtcgcaaaacaacaacagcaactttgcttggactggtgccaccaaatatcacctgaacggaagagactctttggtaaatcccggtgtcgccatggcaacccacaaggacgacgaggaacgcttcttcccgtcgagtggagtcctgatgtttggaaaacagggtgctggaagagacaatgtggactacagcagcgttatgctaaccagcgaagaagaaattaaaaccactaaccctgtagccacagaacaatacggtgtggtggctgacaacttgcagcaaaccaatacagggcctattgtgggaaatgtcaacagccaaggagccttacctggcatggtctggcagaaccgagacgtgtacctgcagggtcccatctgggccaagattcctcacacggacggcaacttccacccttcaccgctaatgggaggatttggactgaagcacccacctcctcagatcctgatcaagaacacgccggtacctgcggatcctccaacaacgttcagccaggcgaaattggcttccttcattacgcagtacagcaccggacaggtcagcgtggaaatcgagtgggagctgcagaaggagaacagcaaacgttggaacccagagattcagtacacttcaaactactacaaatctacaaatgtggactttgctgtcaatacagagggaacttattctgagcctcgccccattggtactcgttacctcacccgtaatctgtaa\n",
      "hu.46\n",
      "atggctgccgacggttatcttccagattggctcgaggacactctctctgaaggaataagacagtggtggaagctcaaacctggcccaccaccaccaaagcccgcagagcggcataaggacgacagcaggggtcttgtgcttcctgggtacaagtacctcggacccttcaacggactcgacaagggagagccggtcaacgaggcagacgccgcggccctcgagcacgacaaagcctacgaccggcagctcgacagcggagacaacccgtacctcaagtacaaccacgccgacgcggagtttcaggagcgccttaaagaagatacgtcttttgggggcaacctcgggcgggcagtcttccaggccaagaagcgggttctcgaacctctcggtctggttgaggaaggcgctaagacggctcctggaaagaaacgtccggtagagcagtcgccacaagagccagactccccctcgggcatcggcaagacaggccagcagcccgctaaaaagagactcaattttggtcagactggcgactcagagtcagtccccgatccacaacctctcggagaacctccagcaacccccgctgctgtgggacctactacaatggcttcaggcggtggcgcaccaatggcagacaataacgaaggcgccgacggagtgggtaatgcctcaggaaattggcactgcgattccacatggctgggcgacagagtcatcaccaccagcacccgcacctgggccttgcccacctacaataaccacctctacaagcaaatctccagtgcttcaacgggggccagcaacgacaaccactacttcggctacagcaccccctgggggtattttgatttcaacagattccactgccacttttcaccacgtgactggcagcgactcatcaacaacaattggggattccggcccaagagactcaacttcaaactcttcaacatccaagtcaaggaggtcacgacgaatgatggcgtcacaaccatcgctaataaccttaccagcacggttcaagtcttctcggactcggagtaccagcttccgtacgtcctcggctctgcgcaccagggccgcctccctccgttcccggcggacgtgttcatgattccgcaatacggctacctgacgctcaacaatggcagccaagccgtgggacgttcatcctcttactgcctggaatatttcccttctcagatgctgagaacgggcaacaactttaccttcagctacacctttgaggaagtgcctctccacagcagctgcgcgcacagccagagcctggaccggctgatgaatcctctcatcgaccaatacctgtattacctgaacagaactcaaaatcagtccggaagtgcccaaaacagggacttgctgttcagccgtgggtctccagctggcatgtctgttcagcccaaaaactggctacctggaccctgttatcggcagcagcgcgtttctaaaacaaaaacagacaacaacaacagcaattttacctggactggtgcttcaaaatataacctcaatgggcgtgaatccatcatcaaccctggcactgctatggcctcacacaaagacgacgaagacaagttctttcccatgagcggtgtcatgatttttggaaaagagagcgccggagcttcaaacactgcattggacaatgtcatgattacagacgaagaggaaattaaagccactaaccctgtggccaccgaaagatttgggaccgtggcagtcaatttccagagcagcagcacagaccctgcgaccggagatgtgcatgctatgggagcattacctggcatggtgtggcaagatagagacgtgtacctgcagggtcccatttgggccaaaattcctcacacagatggacactttcacccgtctcctcttatgggcggctttggactcaagaacccgcctcctcagatcctcatcaaaaacacgcctgttcctgcgaatcctccggcggagttttcagctacaaagtttgcttcattcatcacccaatactccgcaggacaagtgagtgtggaaattgaatgggagctgcagaaagaaaacagcaagcgctggaatcccgaagtgcagtacacatccaattatgcaaaatctgccaacgttgattttactgtggacaacaatggactttatactgagcctcgccccattggcacccgttaccttacccgtcccctgtaa\n",
      "hu.6\n",
      "atggctgccgatggttatcttccagattggctcgaggacaacctctctgagggcattcgcgagtggtgggacttgaaacctggagccccgaaacccaaagccaaccagcaaaagcaggacgacggccggggtctggtgcttcctggctacaagtacctcggacccttcaacggactcgacaagggggagcccgtcaacgcggcggacgcagcggccctcgagcacgacaaggcctacgaccagcagctcaaagcgggtgacaatccgtacctgcggtataaccacgccgacgccgagtttcaggagcgtctgcaagaagatacgtcttttgggggcaacctcgggcgagcagtcttccaggccaagaagcgggttctcgaacctctcggtctggttgaggaaggcgctaagacggctcctggaaagaagagaccggtagagccatcaccccagcgttctccagactcctctacgggcatcggcaagacaggccagcagcccgcgaaaaagagactcaactttgggcagactggcgactcagagtcagtgcccgaccctcaaccaatcggagaaccccccgcaggcccctctggtctgggatctggtacaatggctgcaggcggtggcgctccaatggcagacaataacgaaggcgccgacggagtgggtagttcctcaggaaattggcattgcgattccgcatggctgggcgacagagtcatcaccaccagcacccgaccctgggccctccccacctacaacaaccacctctacaagcaaatctccaacgggacatcgggaggaagcaccaacgacaacacctacttcggctacagcaccccctgggggtattttgactttaacagattccactgccacttctcaccacgtgactggcagcgactcatcaacaacaactggggattccggcccaagagactcaacttcaagctcttcaacatccaggtcaaggaggtcacgcagaatgaaggcaccaagaccatcgccaataaccttaccagcacgattcaggtctttacggactcggaataccagctcccgtacgtcctcggctctgcgcaccagggctgcccgcctccgttcccggcggacgtcttcatgattcctcagtacgggtacctgactctgaacaacggcagtcaggccgtgggccgttcctccttctactgcctggagtactttccttctcaaatgcggagaacgggcaacaactttgagttcagctaccagtttgaggacgtgccttttcacagcagctacgcgcatagccaaagcctggaccggctgatgaaccccctcatcgaccagtacctgtactacctgtctcggactcagtccacgggaggtaccgcaggaactcagcagttgctattttctcaggccgggcctaataacatgtcggctcaggccaaaaactggctacccgggccctgctaccggcagcaacgcgtctccacgacactgtcgcaaaataacaacagcaactttgcttggaccggtgccaccaagtatcatctgaatggcagagactctctggtaaatcccggtgtcgctatggcaacgcacaaggacgacgaagagcgattttttccatccagcggagtcttgatgtttgggaaacagggagctggaaaagacaacgtggactatagcagcgttatgctaaccagtgaggaagaaatcaaaaccaccaacccagtggccacagaacagtacggcgtggtggccgataacctgcaacagcaaaacgccgctcctattgtaggggccgtcaacagtcaaggagccttacctggcatggtctggcagaaccgggacgtgtacctgcagggtcctatctgggccaagattcctcacacggacggcaactttcatccttcgccgctgatgggaggctttggactgaaacacccgcctcctcagatcctgattaagaatacacctgttcccgcggatcctccaactaccttcagtcaagccaagctggcgtcgttcatcacgcagtacagcaccggacaggtcagcgtggaaattgaatgggagctgcagaaagagaacagcaagcgctggaacccagagattcagtatacttccaactactacaaatctacaaatgtggactttgctgtcaatactgagggtacttattcagagcctcgccccattggcacccgttacctcacccgtaacctgtaa\n",
      "pi.2\n",
      "atggctgctgacggttatcttccagattggctcgaggacaacctctctgagggcattcgcgagtggtgggcgctgaaacctggagccccgcaacccaaagccaaccagcaaaagcaggacgacggccggggtctggtgcttcctggctacaagtacctcggacccttcaacggactcgacaagggggagcccgtcaacgaggcggacgccgcggccctcgagcacgacaaggcctacgaccagcagctcaaagcgggtgacaatccgtacctgcggtataatcacgccgacgccgagtttcaagagcgtctgcaagaagatacgtcctttgggggcaacctcgggcgagcagtcttccaggccaaaaagagggtactcgagcctctgggtctggttgaggaaggcgctaagacggctcctggaaagaagcggccagtagaaccggactccagctcgggcatcggcaagtcaggccggcagcccgcgaaaaagagactgaattttgggcagactggcgactcagagtcagtgcctgacccccaacctctctcagaaccacccgcaggtccctctggtctgggatctggtacaatggctgcaggcggtggcgctccaatggcagacaataacgaaggcgccgacggagtgggtaatgcctcaggaaattggcattgcgattccacatggctgggcgaccgagtcatcaccaccagcactcggacctgggccctccccacctacaacaaccacctctacaagcaaatctccaacgggacctcgggaggcagcagcaacgacaacacctactttggctacagcaccccctgggggtattttgactttaacagattccactgccacttttcaccacgtgactggcagcgactcatcaacaacaactggggattccggcccaagaggctcaacttcaagctcttcaacatccaggtcaaggaggtcacccagaatgaaggcaccaagaccatcgccaataacctcaccagcacggtgcaggtctttacggactcgaagtaccagctcccgtacgtgctcggctctgcccaccagggctgcctgcctccgttcccggcggacgtgttcatgattccgcagtacgggtacctgacgctgaacaacgggagccaggccgtggggcgatcctccttctactgcctggagtactttccctcgcagatgctgagaacgggcaacaactttaccttcagctacaccttcgaggacgtgcccttccacagcagctacgcgcacagccagagcctggaccggctgatgaacccgctgattgaccagtacctgtactacctgtctcggactcagaccaacgggaccaatgccacgcagactctgttgtttgctcaggccgggcctcagaacatgtcggctcaggccaagaactggctgcctggtccttgctatcggcagcagcgcgtctctacgacagtgtcgcaaaacaacaacagcaactttacctggaccggggcgaccaagtaccacctgaacggccgagactccctggtgaaccccggtgtcgccatggcaacgcacaaggacgacgaggagcgcttcttcccgagcagcggggtcctgatgtttggcaagcagggcgctggaaaggacaatgtcgagtacaccaacgtgatgctcaccagcgaggaggagatcaagaccaccaaccctgtggccacggagcagtacggtgtggtggctgacaatctgcagcagaccaactcggctcccattgtgggggcagtcaacagccagggggccttacccggtatggtctggcagaaccgggacgtgtacctgcagggtcccatctgggccaagatcccgcatacggacggcaactttcacccgtctcctctcatgggcggctttggactgaaacacccgcctccccagatcctgatcaaaaacacgccggtacctgcggatcccccggtgaactttacggacgctaagctggcgagtttcatcacgcagtacagcaccgggcaggtcagcgtggagattgagtgggagctgcagaaggagaacagcaagcgctggaatcccgagattcagtacacttccaattattataaatcagctaatgtggactttgccgtcaatgcagatggtgtatatagtgaaccccgccccattggcactcgttacctcacccgtaatctgtaa\n"
     ]
    }
   ],
   "source": [
    "for filtered_record in filtered_records:\n",
    "    print(filtered_record.name)\n",
    "    print(filtered_record.seq)"
   ]
  },
  {
   "cell_type": "markdown",
   "metadata": {},
   "source": [
    "### Matches in BLAST\n",
    "\n",
    "cy.5: Select seq AY243017.1\tNon-human primate Adeno-associated virus isolate AAVcy.5 capsid protein (VP1) gene, complete cds\n",
    "\n",
    "hu.31: Adeno-associated virus isolate hu.31 capsid protein VP1 (cap) gene, complete cds\n",
    "\n",
    "hu.41: Adeno-associated virus isolate hu.41 capsid protein VP1 (cap) gene, complete cds\n",
    "\n",
    "hu.46: Adeno-associated virus isolate hu.46 capsid protein VP1 (cap) gene, complete cds\n",
    "\n",
    "hu.6: Adeno-associated virus isolate hu.6 capsid protein VP1 (cap) gene, complete cds\n",
    "\n",
    "pi.2: Adeno-associated virus isolate pi.2 capsid protein VP1 (cap) gene, complete cds\n",
    "\n",
    "\n",
    "Yes, they all match the capsid protein VPI (cap) gene. No, there are not any that don't match with the others from the ones that we chose. If our sequence is too short, then it may match many things that are not what we're looking for."
   ]
  },
  {
   "cell_type": "code",
   "execution_count": 46,
   "metadata": {},
   "outputs": [],
   "source": [
    "aligned_records = []\n",
    "for record in SeqIO.parse(\"seqs.aligned.fa\", \"fasta\"):\n",
    "    aligned_records.append(record)"
   ]
  },
  {
   "cell_type": "code",
   "execution_count": 47,
   "metadata": {},
   "outputs": [
    {
     "data": {
      "text/plain": [
       "[SeqRecord(seq=Seq('ATGGCTGCCGATGGTTATCTTCCAGATTGGCTCGAGGACACTCTCTCTGAAGGA...TAA', SingleLetterAlphabet()), id='hu.31', name='hu.31', description='hu.31', dbxrefs=[]),\n",
       " SeqRecord(seq=Seq('ATGGCTGCCGATGGTTATCTTCCAGATTGGCTCGAGGACACTCTCTCTGAAGGA...TAA', SingleLetterAlphabet()), id='hu.32', name='hu.32', description='hu.32', dbxrefs=[]),\n",
       " SeqRecord(seq=Seq('ATGGCTGCCGATGGTTATCTTCCAGATTGGCTCGAGGACAACCTTAGTGAAGGA...TAA', SingleLetterAlphabet()), id='hu.14', name='hu.14', description='hu.14', dbxrefs=[]),\n",
       " SeqRecord(seq=Seq('ATGGCTGCCGATGGTTATCTTCCAGATTGGCTCGAGGACACTCTCTCTGAAGGA...TAA', SingleLetterAlphabet()), id='hu.44', name='hu.44', description='hu.44', dbxrefs=[]),\n",
       " SeqRecord(seq=Seq('ATGGCTGCCGACGGTTATCTTCCAGATTGGCTCGAGGACACTCTCTCTGAAGGA...TAA', SingleLetterAlphabet()), id='hu.46', name='hu.46', description='hu.46', dbxrefs=[]),\n",
       " SeqRecord(seq=Seq('ATGGCTGCTGACGGTTATCTTCCAGATTGGCTCGAGGACAACCTCTCTGAGGGC...TAA', SingleLetterAlphabet()), id='hu.43', name='hu.43', description='hu.43', dbxrefs=[]),\n",
       " SeqRecord(seq=Seq('ATGGCTGCCGATGGTTATCTTCCAGATTGGCTCGAGGACAACCTCTCTGAGGGC...TAA', SingleLetterAlphabet()), id='hu.48', name='hu.48', description='hu.48', dbxrefs=[]),\n",
       " SeqRecord(seq=Seq('ATGGCTGCTGACGGTTATCTTCCAGATTGGCTCGAGGACAACCTCTCTGAGGGC...TAA', SingleLetterAlphabet()), id='pi.3', name='pi.3', description='pi.3', dbxrefs=[]),\n",
       " SeqRecord(seq=Seq('ATGGCTGCTGACGGTTATCTTCCAGATTGGCTCGAGGACAACCTCTCTGAGGGC...TAA', SingleLetterAlphabet()), id='pi.1', name='pi.1', description='pi.1', dbxrefs=[]),\n",
       " SeqRecord(seq=Seq('ATGGCTGCTGACGGTTATCTTCCAGATTGGCTCGAGGACAACCTCTCTGAGGGC...TAA', SingleLetterAlphabet()), id='pi.2', name='pi.2', description='pi.2', dbxrefs=[]),\n",
       " SeqRecord(seq=Seq('ATGGCTGCCGATGGTTATCTTCCAGATTGGCTCGAGGACAACCTCTCTGAGGGC...TAA', SingleLetterAlphabet()), id='rh.43', name='rh.43', description='rh.43', dbxrefs=[]),\n",
       " SeqRecord(seq=Seq('ATGGCTGCTGACGGTTATCTTCCAGATTGGCTCGAGGACAACCTCTCTGAGGGC...TAA', SingleLetterAlphabet()), id='rh.58', name='rh.58', description='rh.58', dbxrefs=[]),\n",
       " SeqRecord(seq=Seq('ATGGCTGCCGATGGTTATCTTCCAGATTGGCTCGAGGACAACCTCTCTGAGGGC...TAA', SingleLetterAlphabet()), id='rh.57', name='rh.57', description='rh.57', dbxrefs=[]),\n",
       " SeqRecord(seq=Seq('ATGGCTGCCGATGGTTATCTTCCAGATTGGCTCGAGGACAACCTCTCTGAGGGC...TAA', SingleLetterAlphabet()), id='hu.39', name='hu.39', description='hu.39', dbxrefs=[]),\n",
       " SeqRecord(seq=Seq('ATGGCTGCCGATGGTTATCTTCCAGATTGGCTCGAGGACAACCTCTCTGAGGGC...TAA', SingleLetterAlphabet()), id='rh.49', name='rh.49', description='rh.49', dbxrefs=[]),\n",
       " SeqRecord(seq=Seq('ATGGTTGCCGATGGTTATCTTCCAGATTGGCTCGAGGACAACCTCTCTGAGGGC...TAA', SingleLetterAlphabet()), id='rh.51', name='rh.51', description='rh.51', dbxrefs=[]),\n",
       " SeqRecord(seq=Seq('ATGGCTGCCGATGGTTATCTTCCAGATTGGCTCGAGGACAACCTCTCTGAGGGC...TAA', SingleLetterAlphabet()), id='rh.61', name='rh.61', description='rh.61', dbxrefs=[]),\n",
       " SeqRecord(seq=Seq('ATGGCTGCCGATGGTTATCTTCCAGATTGGCTCGAGGACAACCTCTCTGAGGGC...TAA', SingleLetterAlphabet()), id='rh.52', name='rh.52', description='rh.52', dbxrefs=[]),\n",
       " SeqRecord(seq=Seq('ATGGCTGCCGATGGTTATCTTCCAGATTGGCTCGAGGACAACCTCTCTGAGGGC...TAA', SingleLetterAlphabet()), id='rh.50', name='rh.50', description='rh.50', dbxrefs=[]),\n",
       " SeqRecord(seq=Seq('ATGGCTGCCGATGGTTATCTTCCAGATTGGCTCGAGGACAACCTCTCTGAGGGC...TAA', SingleLetterAlphabet()), id='rh.53', name='rh.53', description='rh.53', dbxrefs=[]),\n",
       " SeqRecord(seq=Seq('ATGGCTGCCGATGGTTATCTTCCAGATTGGCTCGAGGACAACCTCTCTGAGGGC...TAA', SingleLetterAlphabet()), id='rh.64', name='rh.64', description='rh.64', dbxrefs=[]),\n",
       " SeqRecord(seq=Seq('ATGGCTGCCGATGGTTATCTTCCAGATTGGCTCGAGGACAACCTCTCTGAGGGC...TAA', SingleLetterAlphabet()), id='bb.1', name='bb.1', description='bb.1', dbxrefs=[]),\n",
       " SeqRecord(seq=Seq('ATGGCTGCCGATGGTTATCTTCCAGATTGGCTCGAGGACAACCTCTCTGAGGGC...TAA', SingleLetterAlphabet()), id='bb.2', name='bb.2', description='bb.2', dbxrefs=[]),\n",
       " SeqRecord(seq=Seq('ATGGCTGCCGATGGTTATCTTCCAGATTGGCTCGAGGACAACCTCTCTGAGGGC...TAA', SingleLetterAlphabet()), id='rh.10', name='rh.10', description='rh.10', dbxrefs=[]),\n",
       " SeqRecord(seq=Seq('ATGGCTGCCGATGGTTATCTTCCAGATTGGCTCGAGGACAACCTCTCTGAGGGC...TAA', SingleLetterAlphabet()), id='hu.17', name='hu.17', description='hu.17', dbxrefs=[]),\n",
       " SeqRecord(seq=Seq('ATGGCTGCCGATGGTTATCTTCCAGATTGGCTCGAGGACAACCTCTCTGAGGGC...TAA', SingleLetterAlphabet()), id='hu.6', name='hu.6', description='hu.6', dbxrefs=[]),\n",
       " SeqRecord(seq=Seq('ATGGCTGCCGATGGTTATCTTCCAGATTGGCTTGAGGACAACCTCTCTGAGGGC...TAA', SingleLetterAlphabet()), id='rh.2', name='rh.2', description='rh.2', dbxrefs=[]),\n",
       " SeqRecord(seq=Seq('ATGGCTGCTGACGGTTATCTTCCAGATTGGCTCGAGGACAACCTCTCTGAGGGC...TAA', SingleLetterAlphabet()), id='rh.40', name='rh.40', description='rh.40', dbxrefs=[]),\n",
       " SeqRecord(seq=Seq('ATGGCTGCTGACGGTTATCTTCCAGATTGGCTCGAGGACAACCTCTCTGAGGGC...TAA', SingleLetterAlphabet()), id='hu.41', name='hu.41', description='hu.41', dbxrefs=[]),\n",
       " SeqRecord(seq=Seq('ATGGCTGCTGACGGTTATCTTCCAGATTGGCTCGAGGACAACCTCTCTGAGGGC...TAA', SingleLetterAlphabet()), id='rh.38', name='rh.38', description='rh.38', dbxrefs=[]),\n",
       " SeqRecord(seq=Seq('ATGGCTGCTGACGGTTATCTTCCAGATTGGCTCGAGGACAACCTCTCTGAGGGC...TAA', SingleLetterAlphabet()), id='hu.66', name='hu.66', description='hu.66', dbxrefs=[]),\n",
       " SeqRecord(seq=Seq('ATGGCTGCTGACGGTTATCTTCCAGATTGGCTCGAGGACAACCTCTCTGAGGGC...TAA', SingleLetterAlphabet()), id='hu.67', name='hu.67', description='hu.67', dbxrefs=[]),\n",
       " SeqRecord(seq=Seq('ATGGCTGCTGACGGTTATCTTCCAGATTGGCTCGAGGACAACCTCTCTGAGGGC...TAA', SingleLetterAlphabet()), id='hu.42', name='hu.42', description='hu.42', dbxrefs=[]),\n",
       " SeqRecord(seq=Seq('ATGGCTGCTGACGGTTATCTTCCAGATTGGCTCGAGGACAACCTCTCTGAGGGC...TAA', SingleLetterAlphabet()), id='hu.37', name='hu.37', description='hu.37', dbxrefs=[]),\n",
       " SeqRecord(seq=Seq('ATGGCTGCTGACGGTTATCTTCCAGATTGGCTCGAGGACAACCTCTCTGAGGGC...TAA', SingleLetterAlphabet()), id='hu.40', name='hu.40', description='hu.40', dbxrefs=[]),\n",
       " SeqRecord(seq=Seq('ATGGCTGCCGATGGTTATCTTCCAGATTGGCTCGAGGACAACCTCTCTGAGGGC...TAA', SingleLetterAlphabet()), id='cy.2', name='cy.2', description='cy.2', dbxrefs=[]),\n",
       " SeqRecord(seq=Seq('ATGGCTGCTGACGGTTATCTTCCAGATTGGCTCGAGGACAACCTCTCTGAGGGC...TAA', SingleLetterAlphabet()), id='rh.54', name='rh.54', description='rh.54', dbxrefs=[]),\n",
       " SeqRecord(seq=Seq('ATGGCTGCCGATGGTTATCTTCCAGATTGGCTCGAGGACAACCTCTCTGAGGGC...TAA', SingleLetterAlphabet()), id='rh.55', name='rh.55', description='rh.55', dbxrefs=[]),\n",
       " SeqRecord(seq=Seq('ATGGCTGCTGACGGTTATCTTCCAGATTGGCTCGAGGACAACCTCTCTGAGGGC...TAA', SingleLetterAlphabet()), id='rh.48', name='rh.48', description='rh.48', dbxrefs=[]),\n",
       " SeqRecord(seq=Seq('ATGGCTGCTGACGGTTATCTTCCAGATTGGCTCGAGGACAACCTCTCTGAGGGC...TAA', SingleLetterAlphabet()), id='rh.62', name='rh.62', description='rh.62', dbxrefs=[]),\n",
       " SeqRecord(seq=Seq('ATGGCTGCCGATGGTTATCTTCCAGATTGGCTCGAGGACAACCTCTCTGAGGGC...TAA', SingleLetterAlphabet()), id='rh.35', name='rh.35', description='rh.35', dbxrefs=[]),\n",
       " SeqRecord(seq=Seq('ATGGCTGCCGATGGTTATCTTCCAGATTGGCTCGAGGACAACCTCTCTGAGGGC...TAA', SingleLetterAlphabet()), id='rh.36', name='rh.36', description='rh.36', dbxrefs=[]),\n",
       " SeqRecord(seq=Seq('ATGGCTGCCGATGGTTATCTTCCAGATTGGCTCGAGGACAACCTCTCTGAGGGC...TAA', SingleLetterAlphabet()), id='rh.37', name='rh.37', description='rh.37', dbxrefs=[]),\n",
       " SeqRecord(seq=Seq('ATGGCTGCCGATGGTTATCTTCCAGATTGGCTCGAGGACAACCTCTCTGAGGGC...TAA', SingleLetterAlphabet()), id='cy.4', name='cy.4', description='cy.4', dbxrefs=[]),\n",
       " SeqRecord(seq=Seq('ATGGCTGCCGATGGTTATCTTCCAGATTGGCTCGAGGACAACCTCTCTGAGGGC...TAA', SingleLetterAlphabet()), id='cy.6', name='cy.6', description='cy.6', dbxrefs=[]),\n",
       " SeqRecord(seq=Seq('ATGGCTGCCGATGGTTATCTTCCAGATTGGCTCGAGGACAACCTCTCTGAGGGC...TAA', SingleLetterAlphabet()), id='cy.3', name='cy.3', description='cy.3', dbxrefs=[]),\n",
       " SeqRecord(seq=Seq('ATGGCTGCCGATGGTTATCTTCCAGATTGGCTCGAGGGCAACCTCTCTGAGGGC...TAA', SingleLetterAlphabet()), id='cy.5', name='cy.5', description='cy.5', dbxrefs=[]),\n",
       " SeqRecord(seq=Seq('ATGGCTGCCGATGGTTATCTTCCAGATTGGCTCGAGGACAACCTCTCTGAGGGC...TAA', SingleLetterAlphabet()), id='rh.13', name='rh.13', description='rh.13', dbxrefs=[])]"
      ]
     },
     "execution_count": 47,
     "metadata": {},
     "output_type": "execute_result"
    }
   ],
   "source": [
    "aligned_records"
   ]
  },
  {
   "cell_type": "code",
   "execution_count": 90,
   "metadata": {},
   "outputs": [],
   "source": [
    "cluster1 = [seq for seq in aligned_records if seq.name in ['pi.2','pi.3','pi.1']]\n",
    "cluster2 = [seq for seq in aligned_records if seq.name in ['hu.6','hu.17']]\n",
    "cluster3 = [seq for seq in aligned_records if seq.name in ['rh.40','hu.67','hu.37','hu.40','hu.66','hu.42','hu.41','rh.38']]\n",
    "cluster4 = [seq for seq in aligned_records if seq.name in ['hu.14','hu.31','hu.32']]\n",
    "cluster5 = [seq for seq in aligned_records if seq.name in ['hu.44','hu.46']]\n",
    "cluster6 = [seq for seq in aligned_records if seq.name in ['cy.3','cy.6','cy.4','cy.5','rh.13']]\n",
    "\n",
    "def show_cluster_GC_content(cluster):\n",
    "    x = []\n",
    "    y_GC = []\n",
    "    y_AT = []\n",
    "\n",
    "    cluster_size = len(cluster)\n",
    "\n",
    "    for i in range(len(cluster[0].seq)):\n",
    "        x.append(i)\n",
    "        values = [str(sequence.seq[i]) for sequence in cluster]\n",
    "        nulls = values.count('-')\n",
    "        try:\n",
    "            GC_content = (values.count('G') + values.count('C'))/(cluster_size-nulls)\n",
    "            y_GC.append(GC_content)\n",
    "            y_AT.append(1-GC_content)\n",
    "        except:\n",
    "            y_GC.append(0)\n",
    "            y_AT.append(0)\n",
    "\n",
    "    plt.figure(figsize=(10, 10))\n",
    "    plt.bar(x, y_GC)\n",
    "    plt.bar(x, y_AT, bottom=y_GC)\n",
    "    plt.xlabel('Position in Sequence')\n",
    "    plt.ylabel('%AT or %GC')\n",
    "    plt.show()"
   ]
  },
  {
   "cell_type": "code",
   "execution_count": 91,
   "metadata": {},
   "outputs": [
    {
     "data": {
      "image/png": "[encoded data removed]",
      "text/plain": [
       "<Figure size 720x720 with 1 Axes>"
      ]
     },
     "metadata": {
      "needs_background": "light"
     },
     "output_type": "display_data"
    }
   ],
   "source": [
    "show_cluster_GC_content(cluster1)"
   ]
  },
  {
   "cell_type": "code",
   "execution_count": 92,
   "metadata": {},
   "outputs": [
    {
     "data": {
      "image/png": "[encoded data removed]",
      "text/plain": [
       "<Figure size 720x720 with 1 Axes>"
      ]
     },
     "metadata": {
      "needs_background": "light"
     },
     "output_type": "display_data"
    }
   ],
   "source": [
    "show_cluster_GC_content(cluster2)"
   ]
  },
  {
   "cell_type": "code",
   "execution_count": 93,
   "metadata": {},
   "outputs": [
    {
     "data": {
      "image/png": "[encoded data removed]",
      "text/plain": [
       "<Figure size 720x720 with 1 Axes>"
      ]
     },
     "metadata": {
      "needs_background": "light"
     },
     "output_type": "display_data"
    }
   ],
   "source": [
    "show_cluster_GC_content(cluster3)"
   ]
  },
  {
   "cell_type": "code",
   "execution_count": 94,
   "metadata": {},
   "outputs": [
    {
     "data": {
      "image/png": "[encoded data removed]",
      "text/plain": [
       "<Figure size 720x720 with 1 Axes>"
      ]
     },
     "metadata": {
      "needs_background": "light"
     },
     "output_type": "display_data"
    }
   ],
   "source": [
    "show_cluster_GC_content(cluster4)"
   ]
  },
  {
   "cell_type": "code",
   "execution_count": 95,
   "metadata": {},
   "outputs": [
    {
     "data": {
      "image/png": "[encoded data removed]",
      "text/plain": [
       "<Figure size 720x720 with 1 Axes>"
      ]
     },
     "metadata": {
      "needs_background": "light"
     },
     "output_type": "display_data"
    }
   ],
   "source": [
    "show_cluster_GC_content(cluster5)"
   ]
  },
  {
   "cell_type": "code",
   "execution_count": 96,
   "metadata": {},
   "outputs": [
    {
     "data": {
      "image/png": "[encoded data removed]",
      "text/plain": [
       "<Figure size 720x720 with 1 Axes>"
      ]
     },
     "metadata": {
      "needs_background": "light"
     },
     "output_type": "display_data"
    }
   ],
   "source": [
    "show_cluster_GC_content(cluster6)"
   ]
  },
  {
   "cell_type": "code",
   "execution_count": 97,
   "metadata": {},
   "outputs": [
    {
     "name": "stdout",
     "output_type": "stream",
     "text": [
      "ATGGCTGCCGATGGTTATCTTCCAGATTGGCTCGAGGACACTCTCTCTGAAGGAATAAGACAGTGGTGGAAGCTCAAACCTGGCCCCCCACCACCAAAGCCCGCAGAGCGGCATAAGGACGACAGCAGGGGTCTTGTGCTTCCTGGGTACAAGTACCTCGGACCCGGCAACGGACTCGACAAGGGGGAGCCGGTCAACGCAGCAGACGCGGCGGCCCTCGAGCACGACAAGGCCTACGACCAGCAGCTCAAGGCCGGAGACAACCCGTACCTCAAGTACAACCACGCCGACGCCGAGTTCCAGGAGCGGCTCAAAGAAGATACGTCTTTTGGGGGCAACCTCGGGCGAGCAGTCTTCCAGGCCAAAAAGAGGCTTCTTGAACCTCTTGGTCTGGTTGAGGAAGCGGCTAAGACGGCTCCTGGAAAGAAGAGGCCTGTAGAGCAGTCTCCTCAGGA---ACCGGACTCCTCCGCGGGTATTGGCAAATCGGGTTCACAGCCCGCTAAAAAGAAACTCAATTTCGGTCAGACTGGCGACACAGAGTCAGTCCCCGACCCTCAACCAATCGGAGAACCTCCCGCAGCCCCCTCAGGTGTGGGATCTCTTACAATGGCTTCAGGTGGTGGCGCACCAGTGGCAGACAATAACGAAGGTGCCGATGGAGTGGGTAGTTCCTCGGGAAATTGGCATTGCGATTCCCAATGGCTGGGGGACAGAGTCATCACCACCAGCACCCGAACCTGGGCCCTGCCCACCTACAACAATCACCTCTACAAGCAAATCTCCAACAGCACATCTGGAGGATCTTCAAATGACAACGCCTACTTCGGCTACAGCACCCCCTGGGGGTATTTTGACTTCAACAGATTCCACTGCCACTTCTCACCACGTGACTGGCAGCGACTCATCAACAACAACTGGGGATTCCGGCCTAAGCGACTCAACTTCAAGCTCTTCAACATTCAGGTCAAAGAGGTTACGGACAACAATGGAGTCAAGACCATCGCCAATAACCTTACCAGCACGGTCCAGGTCTTCACGGACTCAGACTATCAGCTCCCGTACGTGCTCGGGTCGGCTCACGAGGGCTGCCTCCCGCCGTTCCCAGCGGACGTTTTCATGATTCCTCAGTACGGGTATCTGACGCTTAATGATGGAGGCCAGGCCGTGGGTCGTTCGTCCTTTTACTGCCTGGAATATTTCCCGTCGCAAATGCTAAGAACGGGTAACAACTTCCAGTTCAGCTACGAGTTTGAGAACGTACCTTTCCATAGCAGCTACGCTCACAGCCAAAGCCTGGACCGACTAATGAATCCACTCATCGACCAATACTTGTACTATCTCTCAAAGACTATTAACGGTTCTGGACAGAATCAAC-----------AAACGCTAAAATTCAGTGTGGCCGGACCCAGCAACATGGCTGTCCAGGGAAGAAACTACATACCTGGACCCAGCTACCGACAACAACGTGTCTCAACCACTGTGACTCAAAACAACAACAGCGAATTTGCTTGGCCTGGAGCTTCTTCTTGGGCTCTCAATGGACGTAATAGCTTGATGAATCCTGGACCTGCTATGGCCAGCCACAAAGAAGGAGAGGACCGTTTCTTTCCTTTGTCCGGATCTTTAATTTTTGGCAAACAAGGAACTG--GA-----AGAGACAACGTGGATGCGGACAAAGTCATGATAACCAACGAAGAAGAAATTAAAACTACTAACCCGGTAGCAACGGAGTCCTATGGACAAGTGGCCACAAACCACCAG------AGTGCCCAAGCACAGGCGCAGACCGGCTGGGTTCAAAACCAAGGAATACTTCCGGGTATGGTTTGGCAGGACAGAGATGTGTACCTGCAAGGACCCATTTGGGCCAAAATTCCTCACACGGACGGCAACTTTCACCCTTCTCCGCTAATGGGAGGGTTTGGAATGAAGCACCCGCCTCCTCAGATCCTCATCAAAAACACACCTGTACCTGCGGATCCTCCAACGGCTTTCAATAAGGACAAGCTGAACTCTTTCATCACCCAGTATTCTACTGGCCAAGTCAGCGTGGAGATTGAGTGGGAGCTGCAGAAGGAAAACAGCAAGCGCTGGAACCCGGAGATCCAGTACACTTCCAACTATTACAAGTCTAATAATGTTGAATTTGCTGTTAGTACTGAAGGTGTATATAGTGAACCCCGCCCCATTGGCACCAGATACCTGACTCGTAATCTGTAA\n"
     ]
    }
   ],
   "source": [
    "print(aligned_records[0].seq)"
   ]
  },
  {
   "cell_type": "code",
   "execution_count": 115,
   "metadata": {},
   "outputs": [
    {
     "data": {
      "text/plain": [
       "{'whiskers': [<matplotlib.lines.Line2D at 0x7fa716c8df60>,\n",
       "  <matplotlib.lines.Line2D at 0x7fa716c8d518>,\n",
       "  <matplotlib.lines.Line2D at 0x7fa712994320>,\n",
       "  <matplotlib.lines.Line2D at 0x7fa712994198>,\n",
       "  <matplotlib.lines.Line2D at 0x7fa7159fee80>,\n",
       "  <matplotlib.lines.Line2D at 0x7fa7159fe748>,\n",
       "  <matplotlib.lines.Line2D at 0x7fa7125252e8>,\n",
       "  <matplotlib.lines.Line2D at 0x7fa712525710>,\n",
       "  <matplotlib.lines.Line2D at 0x7fa716cc5ef0>,\n",
       "  <matplotlib.lines.Line2D at 0x7fa716cc5be0>,\n",
       "  <matplotlib.lines.Line2D at 0x7fa714e70d68>,\n",
       "  <matplotlib.lines.Line2D at 0x7fa714e70278>],\n",
       " 'caps': [<matplotlib.lines.Line2D at 0x7fa716c8d588>,\n",
       "  <matplotlib.lines.Line2D at 0x7fa716c8d898>,\n",
       "  <matplotlib.lines.Line2D at 0x7fa71560fd68>,\n",
       "  <matplotlib.lines.Line2D at 0x7fa71560feb8>,\n",
       "  <matplotlib.lines.Line2D at 0x7fa7159feb38>,\n",
       "  <matplotlib.lines.Line2D at 0x7fa7159fefd0>,\n",
       "  <matplotlib.lines.Line2D at 0x7fa716b26518>,\n",
       "  <matplotlib.lines.Line2D at 0x7fa716b267f0>,\n",
       "  <matplotlib.lines.Line2D at 0x7fa716cc5940>,\n",
       "  <matplotlib.lines.Line2D at 0x7fa716cc5860>,\n",
       "  <matplotlib.lines.Line2D at 0x7fa714e70fd0>,\n",
       "  <matplotlib.lines.Line2D at 0x7fa711799be0>],\n",
       " 'boxes': [<matplotlib.lines.Line2D at 0x7fa716c8d748>,\n",
       "  <matplotlib.lines.Line2D at 0x7fa712994390>,\n",
       "  <matplotlib.lines.Line2D at 0x7fa71560f358>,\n",
       "  <matplotlib.lines.Line2D at 0x7fa712525cc0>,\n",
       "  <matplotlib.lines.Line2D at 0x7fa716b260b8>,\n",
       "  <matplotlib.lines.Line2D at 0x7fa71a6a3a90>],\n",
       " 'medians': [<matplotlib.lines.Line2D at 0x7fa712994710>,\n",
       "  <matplotlib.lines.Line2D at 0x7fa71560ffd0>,\n",
       "  <matplotlib.lines.Line2D at 0x7fa7125254a8>,\n",
       "  <matplotlib.lines.Line2D at 0x7fa716b26a90>,\n",
       "  <matplotlib.lines.Line2D at 0x7fa717a19b38>,\n",
       "  <matplotlib.lines.Line2D at 0x7fa711799320>],\n",
       " 'fliers': [<matplotlib.lines.Line2D at 0x7fa7129942e8>,\n",
       "  <matplotlib.lines.Line2D at 0x7fa71560f6d8>,\n",
       "  <matplotlib.lines.Line2D at 0x7fa712525ba8>,\n",
       "  <matplotlib.lines.Line2D at 0x7fa716b26fd0>,\n",
       "  <matplotlib.lines.Line2D at 0x7fa7179c3f28>,\n",
       "  <matplotlib.lines.Line2D at 0x7fa711799cf8>],\n",
       " 'means': []}"
      ]
     },
     "execution_count": 115,
     "metadata": {},
     "output_type": "execute_result"
    },
    {
     "data": {
      "image/png": "[encoded data removed]",
      "text/plain": [
       "<Figure size 432x288 with 1 Axes>"
      ]
     },
     "metadata": {
      "needs_background": "light"
     },
     "output_type": "display_data"
    }
   ],
   "source": [
    "lengths_x = []\n",
    "lengths_y = [list() for _ in range(6)]\n",
    "\n",
    "for sequence in cluster1:\n",
    "    lengths_x.append(1)\n",
    "    cluster_sequence = str(sequence.seq)\n",
    "    lengths_y[0].append(len(cluster_sequence) - cluster_sequence.count(\"-\"))\n",
    "                     \n",
    "for sequence in cluster2:\n",
    "    lengths_x.append(2)\n",
    "    cluster_sequence = str(sequence.seq)\n",
    "    lengths_y[1].append(len(cluster_sequence) - cluster_sequence.count(\"-\"))\n",
    "\n",
    "for sequence in cluster3:\n",
    "    lengths_x.append(3)\n",
    "    cluster_sequence = str(sequence.seq)\n",
    "    lengths_y[2].append(len(cluster_sequence) - cluster_sequence.count(\"-\"))\n",
    "\n",
    "for sequence in cluster4:\n",
    "    lengths_x.append(4)\n",
    "    cluster_sequence = str(sequence.seq)\n",
    "    lengths_y[3].append(len(cluster_sequence) - cluster_sequence.count(\"-\"))\n",
    "    \n",
    "for sequence in cluster5:\n",
    "    lengths_x.append(5)\n",
    "    cluster_sequence = str(sequence.seq)\n",
    "    lengths_y[4].append(len(cluster_sequence) - cluster_sequence.count(\"-\"))\n",
    "    \n",
    "for sequence in cluster6:\n",
    "    lengths_x.append(6)\n",
    "    cluster_sequence = str(sequence.seq)\n",
    "    lengths_y[5].append(len(cluster_sequence) - cluster_sequence.count(\"-\"))\n",
    "    \n",
    "plt.boxplot(lengths_y)"
   ]
  },
  {
   "cell_type": "code",
   "execution_count": 116,
   "metadata": {},
   "outputs": [
    {
     "data": {
      "text/plain": [
       "[[2196, 2196, 2196],\n",
       " [2217, 2217],\n",
       " [2217, 2217, 2217, 2217, 2217, 2217, 2217, 2217],\n",
       " [2211, 2211, 2211],\n",
       " [2211, 2211],\n",
       " [2187, 2187, 2187, 2187, 2187]]"
      ]
     },
     "execution_count": 116,
     "metadata": {},
     "output_type": "execute_result"
    }
   ],
   "source": [
    "lengths_y"
   ]
  },
  {
   "cell_type": "markdown",
   "metadata": {},
   "source": [
    "These results make sense because the lengths of each of the groups is actually the same, so we cannot see any differences as you might see on other box plots."
   ]
  },
  {
   "cell_type": "code",
   "execution_count": null,
   "metadata": {},
   "outputs": [],
   "source": []
  }
 ],
 "metadata": {
  "kernelspec": {
   "display_name": "Python 3",
   "language": "python",
   "name": "python3"
  },
  "language_info": {
   "codemirror_mode": {
    "name": "ipython",
    "version": 3
   },
   "file_extension": ".py",
   "mimetype": "text/x-python",
   "name": "python",
   "nbconvert_exporter": "python",
   "pygments_lexer": "ipython3",
   "version": "3.6.3"
  }
 },
 "nbformat": 4,
 "nbformat_minor": 2
}
