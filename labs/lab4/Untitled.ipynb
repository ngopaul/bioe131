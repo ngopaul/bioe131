{
 "cells": [
  {
   "cell_type": "code",
   "execution_count": 3,
   "metadata": {},
   "outputs": [],
   "source": [
    "import pandas as pd\n",
    "import numpy as np\n",
    "from Bio import SeqIO\n",
    "from Bio.SeqRecord import SeqRecord\n",
    "from Bio.Seq import Seq\n",
    "from Bio import Entrez"
   ]
  },
  {
   "cell_type": "markdown",
   "metadata": {},
   "source": [
    "### Gene Table.\n",
    "\n",
    "Fields:\n",
    "- name\n",
    "- description\n",
    "- organism\n",
    "- nucleotide sequence\n",
    "- chromosome\n",
    "- start and end position\n",
    "- strand\n",
    "- translated sequence\n",
    "\n",
    "For eukaryotes, the nucleotide sequence should be the spliced mRNA and the coordinates should span the entire locus. \n",
    "\n",
    "### Pathway Table.\n",
    "\n",
    "Fields:\n",
    "- name\n",
    "- description. \n",
    "\n",
    "### Enzyme  Table.\n",
    "\n",
    "Fields:\n",
    "- name\n",
    "- function\n",
    "- enzyme commission  (EC) number\n",
    "\n",
    "Multiple  genes  encode  enzymes  that  perform  the  same function, so there ought to be fewer enzymes than genes.\n",
    "\n",
    "### Associative Tables.\n",
    "\n",
    "1. There are relationships between enzymes and pathways—some enzymes belong to certain pathways. Many to Many. Many enzymes belong to many pathways.\n",
    "2. There is an order to enzymes within pathways. How can the order be represented in a table? Use the same table as in 1. but add a number which represents the order, 0 being the first and the largest number being the last.\n",
    "3. Genes in the gene table encode enzymes in the enzyme table. How can this be represented? many-to-many from enzymes to genes, because of alternative splicing which allows a gene to code for many enzymes, and because many genes can code for enzymes that perform the same function."
   ]
  },
  {
   "cell_type": "markdown",
   "metadata": {},
   "source": [
    "### Commands to create tables\n",
    "\n",
    "CREATE TABLE IF NOT EXISTS genes (id INT PRIMARY KEY ASC,  name TEXT, description TEXT, chromosome TEXT, start INT, end INT, strand VARCHAR(1)); \n",
    "\n",
    "CREATE TABLE IF NOT EXISTS pathways (id INT PRIMARY KEY ASC, name TEXT, description TEXT); \n",
    "\n",
    "CREATE TABLE IF NOT EXISTS enzymes (id INT PRIMARY KEY ASC, name TEXT, function TEXT, ecn TEXT);\n",
    "\n",
    "CREATE TABLE IF NOT EXISTS enzymes_pathways (\n",
    "                                            enzyme_id INT,\n",
    "                                            pathway_id INT,\n",
    "                                            order INT,\n",
    "                                            FOREIGN KEY(enzyme_id) REFERENCES enzymes(id),\n",
    "                                            FOREIGN KEY(pathway_id) REFERENCES pathways(id)\n",
    "                                            );\n",
    "\n",
    "CREATE TABLE IF NOT EXISTS genes_enzymes (\n",
    "                                         gene_id INT,\n",
    "                                         enzyme_id INT,\n",
    "                                         FOREIGN KEY(gene_id) REFERENCES genes(id),\n",
    "                                         FOREIGN KEY(enzyme_id) REFERENCES enzymes(id)\n",
    "                                         );\n",
    "                            "
   ]
  },
  {
   "cell_type": "code",
   "execution_count": null,
   "metadata": {},
   "outputs": [],
   "source": []
  }
 ],
 "metadata": {
  "kernelspec": {
   "display_name": "Python 3",
   "language": "python",
   "name": "python3"
  },
  "language_info": {
   "codemirror_mode": {
    "name": "ipython",
    "version": 3
   },
   "file_extension": ".py",
   "mimetype": "text/x-python",
   "name": "python",
   "nbconvert_exporter": "python",
   "pygments_lexer": "ipython3",
   "version": "3.7.3"
  }
 },
 "nbformat": 4,
 "nbformat_minor": 2
}
