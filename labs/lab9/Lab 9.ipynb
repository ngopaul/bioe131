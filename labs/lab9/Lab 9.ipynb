{
 "cells": [
  {
   "cell_type": "markdown",
   "metadata": {},
   "source": [
    "My assembly failed.\n",
    "\n",
    "The command I used was  \n",
    "`spades.py -o spadesout/ -1 /data/Lab8_data/illumina_reads_R1.fastq -2 /data/Lab8_data/illumina_reads_R2.fastq --pacbio /data/Lab8_data/pacbio_reads.fastq -t 1`\n",
    "\n",
    "The error was an out of memory error. \n",
    "== Error ==  system call for: \"['/bigdata/home/softwares/SPAdes-3.13.1-Linux/bi$== Error ==  system call for: \"['/bigdata/home/softwares/SPAdes-3.13.1-Linux/bin/spades-hammer', '/bigdata/home/5442778/bioe131/labs/lab8/spadesout/corrected/configs/config.info']\" finished abnormally, err code: -6\n",
    "\n",
    "Report the total length of all contigs (or scaffolds),  the number of contigs (or scaffolds), and the N50 in your iPython notebook.\n",
    "\n",
    "Scaffolds:  \n",
    "sum = 6680345, n = 176, ave = 37956.51, largest = 687571  \n",
    "**N50 = 234690, n = 10**  \n",
    "N60 = 202142, n = 13  \n",
    "N70 = 154232, n = 17  \n",
    "N80 = 103366, n = 22  \n",
    "N90 = 83515, n = 29  \n",
    "N100 = 129, n = 176  \n",
    "N_count = 20  \n",
    "Gaps = 2  \n",
    "\n",
    "Contigs  \n",
    "sum = 6680581, n = 180, ave = 37114.34, largest = 687571  \n",
    "**N50 = 234690, n = 10**  \n",
    "N60 = 202142, n = 13  \n",
    "N70 = 154232, n = 17  \n",
    "N80 = 103366, n = 22  \n",
    "N90 = 81821, n = 29  \n",
    "N100 = 128, n = 180  \n",
    "N_count = 0  \n",
    "Gaps = 0  \n",
    "\n",
    "Why is N50 is useful statistic to calculate? Why not just list the mean or median contig length? In your assembly, are scaffolds longer than contigs, or are scaffolds approximately equal to contigs?\n",
    "\n",
    "N50 weights longer contigs more greatly. This creates a better representation of the lengths of the contigs.\n",
    "If you use mean or median, you're going to be weighted down by the smaller lengths.\n",
    "According to wikipedia: \"the N50 is defined as the sequence length of the shortest contig at 50\\% of the total genome length.\"\n",
    "This is a value that is not affected by such problems as you see with mean or median.\n",
    "In the assembly, scaffolds are longer because their average is greater. However, they are not significantly different in length.\n",
    "\n",
    "Extra Credit:The number of times a contig in your assembly was covered by the reads used to assemble it (“coverage”) is listed at the end of the contig name in contigs.fasta. Extract the coverage from each FASTA header and plot a histogram of coverage for all contigs in your assembly. Is coverage uniformly distributed? Does it look Gaussian? Is it bimodal or trimodal? What explains the presence of contigs with coverage an integer multiple of the mean coverage?"
   ]
  },
  {
   "cell_type": "markdown",
   "metadata": {},
   "source": [
    "`./rna_hmm.py -i /data/Lab9_data/contigs.fasta -o ./out.GFF -L /data/Lab9_data/HMM3/`\n",
    "\n",
    "This line throws an error about permissions, so I couldn't run it.\n",
    "\n",
    "You may not be able to obtain a “species”-level identification, but please write down your genus-level identification in  your iPython notebook along with an explanation for how you came to this conclusion.\n",
    "\n",
    "I was not able to find this identification because of the above problem.\n",
    "\n"
   ]
  }
 ],
 "metadata": {
  "kernelspec": {
   "display_name": "Python 3",
   "language": "python",
   "name": "python3"
  },
  "language_info": {
   "codemirror_mode": {
    "name": "ipython",
    "version": 3
   },
   "file_extension": ".py",
   "mimetype": "text/x-python",
   "name": "python",
   "nbconvert_exporter": "python",
   "pygments_lexer": "ipython3",
   "version": "3.7.3"
  }
 },
 "nbformat": 4,
 "nbformat_minor": 2
}
